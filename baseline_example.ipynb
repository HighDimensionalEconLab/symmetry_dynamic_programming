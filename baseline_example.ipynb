{
 "cells": [
  {
   "cell_type": "code",
   "execution_count": 4,
   "metadata": {},
   "outputs": [],
   "source": [
    "import pandas as pd\n",
    "import sys\n",
    "import torch\n",
    "import pytorch_lightning as pl\n",
    "import matplotlib.pyplot as plt\n",
    "import numpy as np\n",
    "from pytorch_lightning.utilities.cli import LightningCLI"
   ]
  },
  {
   "cell_type": "code",
   "execution_count": 5,
   "metadata": {},
   "outputs": [],
   "source": [
    "# Add the example model/etc.\n",
    "import baseline_example\n",
    "from baseline_example import InvestmentEulerBaseline\n",
    "\n",
    "# utility to make calling with CLI defaults easier.  Does not log or use early stopping callbacks\n",
    "def solve_model(Model, args, default_seed = 123):\n",
    "    sys.argv = [\"dummy.py\"] + [f\"--{key}={val}\" for key, val in args.items()]  # hack overwriting  argv\n",
    "\n",
    "    cli = LightningCLI(\n",
    "        Model,\n",
    "        run=False,\n",
    "        seed_everything_default=default_seed,\n",
    "        save_config_overwrite=True,        \n",
    "        parser_kwargs={\"default_config_files\": [\"baseline_example_defaults.yaml\"]},\n",
    "    )\n",
    "    # Solves the model\n",
    "    trainer = cli.instantiate_trainer(\n",
    "        logger=None,\n",
    "        checkpoint_callback=None,\n",
    "        callbacks=[],  # not using the early stopping/etc.\n",
    "    )    \n",
    "    trainer.fit(cli.model)\n",
    "\n",
    "    # Calculates the \"test\" values for it\n",
    "    trainer.test(cli.model)\n",
    "    cli.model.eval()  # Turn off training mode, where it calculates gradients for every call.\n",
    "\n",
    "    return cli.model, cli\n",
    "    "
   ]
  },
  {
   "cell_type": "code",
   "execution_count": 11,
   "metadata": {},
   "outputs": [
    {
     "name": "stderr",
     "output_type": "stream",
     "text": [
      "Global seed set to 123\n",
      "GPU available: True, used: False\n",
      "TPU available: False, using: 0 TPU cores\n",
      "IPU available: False, using: 0 IPUs\n",
      "GPU available: True, used: False\n",
      "TPU available: False, using: 0 TPU cores\n",
      "IPU available: False, using: 0 IPUs\n",
      "\n",
      "  | Name | Type       | Params\n",
      "------------------------------------\n",
      "0 | rho  | Sequential | 50.3 K\n",
      "1 | phi  | Sequential | 17.3 K\n",
      "------------------------------------\n",
      "67.6 K    Trainable params\n",
      "0         Non-trainable params\n",
      "67.6 K    Total params\n",
      "0.270     Total estimated model params size (MB)\n",
      "C:\\Users\\jesse\\anaconda3\\lib\\site-packages\\pytorch_lightning\\callbacks\\model_checkpoint.py:617: UserWarning: Checkpoint directory c:\\Users\\jesse\\Documents\\GitHub\\symmetry_dynamic_programming\\checkpoints exists and is not empty.\n",
      "  rank_zero_warn(f\"Checkpoint directory {dirpath} exists and is not empty.\")\n"
     ]
    },
    {
     "name": "stdout",
     "output_type": "stream",
     "text": [
      "LQ optima are: [ 0.06872244 -0.05046136  0.        ]\n",
      "Epoch 4: 100%|██████████| 48/48 [00:04<00:00,  9.61it/s, loss=1.18e-05, val_loss=5.24e-6, val_u_rel_error=0.00438, val_u_abs_error=0.000142]\n",
      "Testing:  98%|█████████▊| 63/64 [00:03<00:00, 20.42it/s]--------------------------------------------------------------------------------\n",
      "DATALOADER:0 TEST RESULTS\n",
      "{'test_loss': 8.05152922112029e-06,\n",
      " 'test_u_abs_error': 0.00016383636102546006,\n",
      " 'test_u_rel_error': 0.005002937279641628}\n",
      "--------------------------------------------------------------------------------\n",
      "Testing: 100%|██████████| 64/64 [00:03<00:00, 20.39it/s]\n"
     ]
    }
   ],
   "source": [
    "# Load using the cli options, then run to fit the model \n",
    "model, cli = solve_model(InvestmentEulerBaseline, {\"trainer.max_epochs\" : 5, \"model.L\" : 4, \"model.verbose\": True})"
   ]
  },
  {
   "cell_type": "code",
   "execution_count": 14,
   "metadata": {},
   "outputs": [
    {
     "data": {
      "text/plain": [
       "Text(0.5, 0, 'Time($t$)')"
      ]
     },
     "execution_count": 14,
     "metadata": {},
     "output_type": "execute_result"
    },
    {
     "data": {
      "image/png": "[encoded data removed]",
      "text/plain": [
       "<Figure size 432x288 with 1 Axes>"
      ]
     },
     "metadata": {
      "needs_background": "light"
     },
     "output_type": "display_data"
    }
   ],
   "source": [
    "# Plot the results of the previous cell\n",
    "df = model.test_results[\n",
    "    model.test_results[\"ensemble\"] == 0\n",
    "]  # first ensemble in dataframe from model on test data\n",
    "\n",
    "fig, ax = plt.subplots()\n",
    "ax.plot(df[\"t\"], df[\"u_hat\"], label=r\"$u(X_t)$, $\\phi($ReLU$)$\")\n",
    "if model.hparams.nu == 1.0:  # only add reference line if linear\n",
    "    ax.plot(df[\"t\"], df[\"u_reference\"], dashes=[10, 5, 10, 5], label=r\"$u(X_t)$, LQ\")\n",
    "ax.legend()\n",
    "ax.set_title(r\"$u(X_t)$ with $\\phi($ReLU$)$ : Equilibrium Path\")\n",
    "ax.set_xlabel(r\"Time($t$)\")\n"
   ]
  },
  {
   "cell_type": "code",
   "execution_count": 13,
   "metadata": {},
   "outputs": [
    {
     "name": "stdout",
     "output_type": "stream",
     "text": [
      "tensor([[0.0234],\n",
      "        [0.0211]])\n"
     ]
    }
   ],
   "source": [
    "# Example to evaluate  model after fitting it, can do at multiple points at same time:\n",
    "model.eval()  # TODO: why is the `no_grad` also needed?\n",
    "X_points = torch.stack((model.X_0 + 0.001 * torch.randn(model.hparams.N),\n",
    "                        model.X_0 + 0.05 * torch.ones(model.hparams.N)))\n",
    "# evaluate the policy.  Doing it with a `no_grad` can speed things up \n",
    "with torch.no_grad():\n",
    "    u_X = model(X_points)\n",
    "    print(u_X)"
   ]
  },
  {
   "cell_type": "code",
   "execution_count": null,
   "metadata": {},
   "outputs": [],
   "source": []
  }
 ],
 "metadata": {
  "interpreter": {
   "hash": "cf8961fe9b5fbf1e5cd2743c99fc1213d0fe12e26b8e85d9ad5d835ce5addc5c"
  },
  "kernelspec": {
   "display_name": "Python 3.8.5 64-bit ('base': conda)",
   "language": "python",
   "name": "python3"
  },
  "language_info": {
   "codemirror_mode": {
    "name": "ipython",
    "version": 3
   },
   "file_extension": ".py",
   "mimetype": "text/x-python",
   "name": "python",
   "nbconvert_exporter": "python",
   "pygments_lexer": "ipython3",
   "version": "3.8.5"
  },
  "orig_nbformat": 4
 },
 "nbformat": 4,
 "nbformat_minor": 2
}
